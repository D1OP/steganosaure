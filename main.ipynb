{
 "cells": [
  {
   "cell_type": "markdown",
   "id": "b0d9131b",
   "metadata": {},
   "source": [
    "Chiffrement de César"
   ]
  },
  {
   "cell_type": "code",
   "execution_count": 38,
   "id": "997e696f",
   "metadata": {},
   "outputs": [
    {
     "name": "stdout",
     "output_type": "stream",
     "text": [
      "m*dl\r\n",
      "hqylh\r\n",
      "gh\r\n",
      "pdqjhu\r\n",
      "judwlq\r\n",
      "gh\r\n",
      "sdwhv\r\n",
      "dyhf\r\n",
      "ghv\r\n",
      "odugrqv\n"
     ]
    }
   ],
   "source": [
    "# Code chiffrement\n",
    "import string\n",
    "string.printable = string.printable.replace(\\\"r\", \"à\")\n",
    "def cesar_ciffer(message, key):\n",
    "\tif type(key) != int :\n",
    "\t\tprint(\"la clef doit être un entier\")\n",
    "\t\treturn None\n",
    "\n",
    "\tmessage = str(message)\n",
    "\n",
    "\tlist_of_crypted_caracs = []\n",
    "\t\n",
    "\tfor carac in message:\n",
    "\t\tcrypted_index = (string.printable.index(carac) + key) % len(string.printable)\n",
    "\t\tcrypted_carac = string.printable[crypted_index]\n",
    "\t\n",
    "\t\tlist_of_crypted_caracs.append(crypted_carac)\n",
    "\t\n",
    "\tcrypted_message = \"\".join(list_of_crypted_caracs)\n",
    "\n",
    "\treturn crypted_message\n",
    "crypted_message = cesar_ciffer(\"j'ai envie de manger gratin de pates avec des lardons\", 1003)\n",
    "print(crypted_message)"
   ]
  },
  {
   "cell_type": "code",
   "execution_count": 6,
   "id": "aa8eff13",
   "metadata": {},
   "outputs": [],
   "source": [
    "# Message à cripter\n",
    "crypted_message = cesar_ciffer(\"j'ai envie de manger gratin de pates avec des lardons\", 8)"
   ]
  },
  {
   "cell_type": "code",
   "execution_count": 7,
   "id": "6888ae25",
   "metadata": {},
   "outputs": [
    {
     "name": "stdout",
     "output_type": "stream",
     "text": [
      "r/iq2mvDqm2lm2uivomz2oziBqv2lm2xiBmA2iDmk2lmA2tizlwvA\n"
     ]
    }
   ],
   "source": [
    "# Afficher message une fois cripté\n",
    "print(crypted_message)"
   ]
  },
  {
   "cell_type": "code",
   "execution_count": 12,
   "id": "6fbeed40",
   "metadata": {},
   "outputs": [],
   "source": [
    "# Code décriptage du message chiffré avec cesar\n",
    "def cesar_decrypt(crypted_message, key):\n",
    "\treturn cesar_ciffer(crypted_message, -key)"
   ]
  },
  {
   "cell_type": "code",
   "execution_count": 15,
   "id": "6b93d256",
   "metadata": {},
   "outputs": [
    {
     "name": "stdout",
     "output_type": "stream",
     "text": [
      "j'ai envie de manger gratin de pates avec des lardons\n"
     ]
    }
   ],
   "source": [
    "# Affichage du message avec\n",
    "print(cesar_decrypt(crypted_message, 104))"
   ]
  },
  {
   "cell_type": "code",
   "execution_count": null,
   "id": "d882323a",
   "metadata": {},
   "outputs": [],
   "source": []
  },
  {
   "cell_type": "markdown",
   "id": "b32c3e40",
   "metadata": {},
   "source": [
    "Chiffrement de Vigenere"
   ]
  },
  {
   "cell_type": "code",
   "execution_count": 21,
   "id": "103569b0",
   "metadata": {},
   "outputs": [],
   "source": [
    "# Code chiffrement du chiffrement\n",
    "def vigenere(message, password, ciffer):\n",
    "\tif ciffer:\n",
    "\t\tlist_of_keys = [string.printable.index(password_carac) for password_carac in password]\n",
    "\telse:\n",
    "\t\tlist_of_keys = [- string.printable.index(password_carac) for password_carac in password]\n",
    "\t\n",
    "\tlist_of_crypted_caracs = []\n",
    "\n",
    "\tfor index_carac, carac in enumerate(message):\n",
    "\t\tcurrent_key = list_of_keys[index_carac % len(list_of_keys)]\n",
    "\t\tlist_of_crypted_caracs.append(cesar_ciffer(carac, current_key))\n",
    "\n",
    "\tcrypted_message = \"\".join(list_of_crypted_caracs)\n",
    "\n",
    "\treturn crypted_message"
   ]
  },
  {
   "cell_type": "code",
   "execution_count": 24,
   "id": "12b28a92",
   "metadata": {},
   "outputs": [
    {
     "name": "stdout",
     "output_type": "stream",
     "text": [
      "rlwsx\n",
      "hakim\n"
     ]
    }
   ],
   "source": [
    "print(vigenere(message=\"hakim\", password=\"abc\", ciffer=True))\n",
    "print(vigenere(message=\"rlwsx\", password=\"abc\", ciffer=False))"
   ]
  },
  {
   "cell_type": "code",
   "execution_count": null,
   "id": "161ae216",
   "metadata": {},
   "outputs": [],
   "source": []
  },
  {
   "cell_type": "code",
   "execution_count": null,
   "id": "61001846",
   "metadata": {},
   "outputs": [],
   "source": []
  },
  {
   "cell_type": "code",
   "execution_count": null,
   "id": "7f916f08",
   "metadata": {},
   "outputs": [],
   "source": []
  },
  {
   "cell_type": "code",
   "execution_count": null,
   "id": "8beb13fc",
   "metadata": {},
   "outputs": [],
   "source": []
  },
  {
   "cell_type": "code",
   "execution_count": null,
   "id": "6c06850d",
   "metadata": {},
   "outputs": [],
   "source": []
  },
  {
   "cell_type": "code",
   "execution_count": null,
   "id": "ae936bd9",
   "metadata": {},
   "outputs": [],
   "source": []
  }
 ],
 "metadata": {
  "kernelspec": {
   "display_name": "Python 3 (ipykernel)",
   "language": "python",
   "name": "python3"
  },
  "language_info": {
   "codemirror_mode": {
    "name": "ipython",
    "version": 3
   },
   "file_extension": ".py",
   "mimetype": "text/x-python",
   "name": "python",
   "nbconvert_exporter": "python",
   "pygments_lexer": "ipython3",
   "version": "3.11.5"
  }
 },
 "nbformat": 4,
 "nbformat_minor": 5
}
